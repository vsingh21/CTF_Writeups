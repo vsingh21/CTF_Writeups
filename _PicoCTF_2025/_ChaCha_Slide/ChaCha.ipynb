{
 "cells": [
  {
   "cell_type": "code",
   "execution_count": 1,
   "id": "8fe49e2a",
   "metadata": {},
   "outputs": [
    {
     "name": "stderr",
     "output_type": "stream",
     "text": [
      "/usr/local/lib/python3.10/dist-packages/matplotlib/projections/__init__.py:63: UserWarning: Unable to import Axes3D. This may be due to multiple versions of Matplotlib being installed (e.g. as a system package and as a pip package). As a result, the 3D projection is not available.\n",
      "  warnings.warn(\"Unable to import Axes3D. This may be due to multiple versions of \"\n"
     ]
    },
    {
     "data": {
      "text/plain": [
       "3"
      ]
     },
     "execution_count": 1,
     "metadata": {},
     "output_type": "execute_result"
    }
   ],
   "source": [
    "1+2"
   ]
  },
  {
   "cell_type": "code",
   "execution_count": 2,
   "id": "0799bbb7",
   "metadata": {},
   "outputs": [
    {
     "data": {
      "text/plain": [
       "5"
      ]
     },
     "execution_count": 2,
     "metadata": {},
     "output_type": "execute_result"
    }
   ],
   "source": [
    "2+3"
   ]
  },
  {
   "cell_type": "code",
   "execution_count": 3,
   "id": "e8ea3bbb",
   "metadata": {},
   "outputs": [],
   "source": [
    "def find_valid_r(coeffs, tagdiff):\n",
    "    p = 2**130 - 5  # Prime modulus\n",
    "    GF = GF(p)\n",
    "    possible_rs = []\n",
    "\n",
    "    # Iterate over possible k values: -4, -3, ..., 4\n",
    "    for k in range(1):\n",
    "        print(f\"Trying k = {k}\")\n",
    "        rhs = -(tagdiff + k * (2**128)) % p\n",
    "        \n",
    "        # Polynomial coefficients: c1 r^5 + c2 r^4 + c3 r^3 + c2 r^2 + c1 r - rhs\n",
    "        poly = GF(coeffs[0]) * x^5 + GF(coeffs[1]) * x^4 + GF(coeffs[2]) * x^3 \\\n",
    "               + GF(coeffs[3]) * x^2 + GF(coeffs[4]) * x - GF(rhs)\n",
    "        \n",
    "        roots = poly.roots(multiplicities=False)\n",
    "        possible_rs.extend(roots)\n",
    "    \n",
    "    # Filter roots based on Poly1305 key constraints\n",
    "    valid_rs = []\n",
    "    for r in possible_rs:\n",
    "        r_int = Integer(r)\n",
    "        # Convert to 16-byte little-endian\n",
    "        r_bytes = r_int.to_bytes(16, byteorder='little')\n",
    "        \n",
    "        # Check top 4 bits of bytes 3,7,11,15 are clear\n",
    "        if any((r_bytes[i] & 0xF0) != 0 for i in [3, 7, 11, 15]):\n",
    "            continue\n",
    "        \n",
    "        # Check bottom 2 bits of bytes 4,8,12 are clear\n",
    "        if any((r_bytes[i] % 4) != 0 for i in [4, 8, 12]):\n",
    "            continue\n",
    "        \n",
    "        valid_rs.append(r_bytes)\n",
    "    \n",
    "    return valid_rs\n",
    "\n"
   ]
  },
  {
   "cell_type": "code",
   "execution_count": 471,
   "id": "7d52751a",
   "metadata": {},
   "outputs": [],
   "source": [
    "def byte(number, i):\n",
    "    return (number & (0xff << (i * 8))) >> (i * 8)\n",
    "\n",
    "def find_valid_r(coeffs, tagdiff):\n",
    "    p = (1 << 130) - 5  # Prime modulus\n",
    "    R = PolynomialRing(Integers(p), 'v')  # Define polynomial ring modulo 2^130 - 5\n",
    "    v = R.gen()\n",
    "    possible_rs = []\n",
    "\n",
    "    # Define the polynomial variable\n",
    "\n",
    "    # Iterate over possible k values: -4, -3, ..., 4\n",
    "    for k in range(-5, 5):\n",
    "        # print(f\"Trying k = {k}\")\n",
    "        new_coeffs = []\n",
    "        new_coeffs.extend(coeffs)\n",
    "        rhs = (tagdiff + k * (1 <<128)) % p\n",
    "        new_coeffs.append(-rhs)\n",
    "        new_coeffs.reverse()\n",
    "        \n",
    "        # Polynomial coefficients: c1 r^5 + c2 r^4 + c3 r^3 + c2 r^2 + c1 r - rhs\n",
    "        poly = sum(c * v**i for i, c in enumerate(new_coeffs))\n",
    "        #print(f\"Poly: {poly.polynomial(v)}\")\n",
    "        roots = poly.roots(multiplicities=False)\n",
    "        # print(roots)\n",
    "        possible_rs.extend(roots)\n",
    "    possible_rs = [x.lift() for x in possible_rs]\n",
    "    for r in possible_rs:\n",
    "        hex_str = hex(r)[2:].zfill(32)  # Convert to hex, remove '0x', and pad to 32 chars\n",
    "        formatted_hex = ' '.join(hex_str[i:i+2] for i in range(0, len(hex_str), 2))\n",
    "        print(f\"{str(r)}\\t: {formatted_hex}\")\n",
    "\n",
    "    possible_rs = [\n",
    "        r for r in possible_rs \n",
    "        if  (byte(r, 3)  & 0xF0 == 0) \n",
    "        and  (byte(r, 7)  & 0xF0 == 0)  \n",
    "        and  (byte(r, 11)  & 0xF0 == 0)  \n",
    "        and  (byte(r, 15)  & 0xF0 == 0)  \n",
    "        and  (byte(r, 4)  & 0x03 == 0)  \n",
    "        and  (byte(r, 8)  & 0x03 == 0)  \n",
    "        and  (byte(r, 12)  & 0x03 == 0)  \n",
    "    ]\n",
    "    return possible_rs\n",
    "\n",
    "def find_valid_s(r_candidates, coeffs1, coeffs2, tag1, tag2):\n",
    "    p = (1 << 130) - 5  # Prime modulus\n",
    "    rs_candidates = []\n",
    "    print(r_candidates)\n",
    "    for r in r_candidates:\n",
    "        acc1 = 0\n",
    "        acc2 = 0\n",
    "        for i in range(len(coeffs1)):\n",
    "            acc1 += coeffs1[i] % p\n",
    "            acc1 = (acc1 * r) % p\n",
    "            acc2 += coeffs2[i] % p\n",
    "            acc2 = (acc2 * r) % p\n",
    "        #print(acc1, acc2)\n",
    "        s1 = (tag1 - acc1) % (1 << 128)\n",
    "        s2 = (tag2 - acc2) % (1 << 128)\n",
    "        if s1 == s2:\n",
    "            rs_candidates.append([r, s1])\n",
    "    return rs_candidates"
   ]
  },
  {
   "cell_type": "code",
   "execution_count": 491,
   "id": "6d656921",
   "metadata": {},
   "outputs": [],
   "source": [
    "coeffs1 = [538640274081240381019147370272758415192, 462029317561921617150287947377116959195, 514826131592740245787887153031584711298, 535550505289509202810815754775617154302, 340282369155093552765040269583743790077, 340282366920938464883773901107403685888]\n",
    "coeffs2 = [518575531808390145367352643422387617352, 439370050837056053909361816896710739392, 613210017993548771521380264009051921874, 550280077919642477568980272650752502763, 340282366920938463463374621277054575026, 340282366920938464754646692591436824576]\n",
    "diff_coeffs = [20064742272850235651794726850370797840, 22659266724865563240926130480406219803, -98383886400808525733493110977467210576, -14729572630133274758164517875135348461, 2234155089301665648306689215051, 129127208515966861312]\n",
    "tag1 = 214997742450230526426862784708746195147\n",
    "tag2 = 11700909561346116411883985678737627548\n",
    "tagdiff = 203296832888884410014978799030008567599"
   ]
  },
  {
   "cell_type": "code",
   "execution_count": 492,
   "id": "e9d64fcc",
   "metadata": {
    "scrolled": true
   },
   "outputs": [
    {
     "name": "stdout",
     "output_type": "stream",
     "text": [
      "672756700999113330458682122112888731074\t: 1f a2 03 a4 24 c7 0a 67 70 9a 21 38 d7 45 3f 5c 2\n",
      "910798585191932512621484758543117777517\t: 2a d3 56 d4 63 76 5b 27 50 05 f9 1c 56 5f 2f a6 d\n",
      "884041724949607071490947755470871379759\t: 29 91 43 e3 65 9a b2 fa a6 24 0f be 33 a0 0b f2 f\n",
      "1163984120322327139423653785278369166938\t: 36 ba f2 fe d2 02 ba 1d 16 bd c1 59 b1 aa ef 65 a\n",
      "9891123961954051960689791493241080567\t: 07 70 f6 10 09 57 15 2c 0a 95 36 ec 0e 98 8a f7\n",
      "930170876911270808337057867339014468167\t: 2b bc 86 4f f8 6f 3e 4e c3 67 b7 6c 43 3b 1f 24 7\n",
      "149957928990057049356322976306767414381\t: 70 d0 d8 b9 bb 0a d1 19 c3 a2 ac 3d d0 6d 44 6d\n",
      "940055141728703913411651768454398339321\t: 2c 33 80 8e 0f d0 48 ce 35 48 4b 2b d9 56 3e 8f 9\n",
      "972587388263851485379169609780609383084\t: 2d bb 18 47 83 2a 20 7f 5c 47 a8 74 18 4d 37 aa c\n",
      "142974882975895100839682454143618919025\t: 6b 8f f5 f9 bb 52 5b 9c 8d 44 5f 3c 0c 22 2a 71\n",
      "[9891123961954051960689791493241080567]\n"
     ]
    },
    {
     "data": {
      "text/plain": [
       "[[9891123961954051960689791493241080567,\n",
       "  88048986216729752815100368924182949598]]"
      ]
     },
     "execution_count": 492,
     "metadata": {},
     "output_type": "execute_result"
    }
   ],
   "source": [
    "find_valid_s(find_valid_r(diff_coeffs, tagdiff), coeffs1, coeffs2, tag1, tag2)"
   ]
  },
  {
   "cell_type": "code",
   "execution_count": 476,
   "id": "520033b0",
   "metadata": {},
   "outputs": [],
   "source": [
    "def clamp(r):\n",
    "    return r & 0x0ffffffc0ffffffc0ffffffc0fffffff"
   ]
  },
  {
   "cell_type": "code",
   "execution_count": null,
   "id": "ab7c9528",
   "metadata": {},
   "outputs": [],
   "source": []
  }
 ],
 "metadata": {
  "kernelspec": {
   "display_name": "SageMath 9.5",
   "language": "sage",
   "name": "sagemath"
  },
  "language_info": {
   "codemirror_mode": {
    "name": "ipython",
    "version": 3
   },
   "file_extension": ".py",
   "mimetype": "text/x-python",
   "name": "python",
   "nbconvert_exporter": "python",
   "pygments_lexer": "ipython3",
   "version": "3.10.12"
  }
 },
 "nbformat": 4,
 "nbformat_minor": 5
}
